{
 "cells": [
  {
   "cell_type": "code",
   "execution_count": 6,
   "id": "87884436-5a29-44b2-bc3d-8e7b5cfa3d32",
   "metadata": {},
   "outputs": [
    {
     "name": "stdout",
     "output_type": "stream",
     "text": [
      "inoova 500 200\n"
     ]
    }
   ],
   "source": [
    "1.\n",
    "class vehicle:\n",
    "    \n",
    "    def __init__(self,name_of_vehicle,max_speed ,average_of_vehicle):\n",
    "        self.name_of_vehicle = name_of_vehicle\n",
    "        self.max_speed = max_speed\n",
    "        self.average_of_vehicle =average_of_vehicle\n",
    "        \n",
    "    def display(self):\n",
    "        print(self.name_of_vehicle ,self.max_speed ,self.average_of_vehicle)\n",
    "        \n",
    "        \n",
    "v= vehicle(\"inoova\" , 500 ,200)\n",
    "v1=vehicle(\"sudan\" , 600 ,300)\n",
    "v.display()\n"
   ]
  },
  {
   "cell_type": "code",
   "execution_count": 50,
   "id": "1f680e89-bf84-45ae-86d0-6684947ffd0d",
   "metadata": {},
   "outputs": [
    {
     "data": {
      "text/plain": [
       "('sudan', 6)"
      ]
     },
     "execution_count": 50,
     "metadata": {},
     "output_type": "execute_result"
    }
   ],
   "source": [
    "2.\n",
    "class vehicle:\n",
    "    \n",
    "    def __init__(self,name_of_vehicle,max_speed ,average_of_vehicle):\n",
    "        self.name_of_vehicle = name_of_vehicle\n",
    "        self.max_speed = max_speed\n",
    "        self.average_of_vehicle =average_of_vehicle\n",
    "        \n",
    "    def display(self):\n",
    "        print(self.name_of_vehicle ,self.max_speed ,self.average_of_vehicle)\n",
    "        \n",
    "        \n",
    "class car(vehicle):\n",
    "    \n",
    "    def __init__(self, name_of_vehicle ,max_speed ,average_of_vehicle, capacity):\n",
    "        super().__init__(name_of_vehicle,max_speed ,average_of_vehicle)\n",
    "        self.capacity = capacity\n",
    "    \n",
    "    def seating_capacity(self,capacity):\n",
    "        if capacity  <=3:\n",
    "            pass\n",
    "        else: \n",
    "            self.capacity = capacity\n",
    "            \n",
    "            \n",
    "            \n",
    "    \n",
    "    def display1(self):\n",
    "        return self.name_of_vehicle , self.capacity\n",
    "        \n",
    "c= car (\"sudan\" , 600 ,30,2)\n",
    "c.display()\n",
    "c.seating_capacity(6)\n",
    "c.display1()\n",
    "\n",
    "\n",
    "        \n",
    "        \n",
    "        "
   ]
  },
  {
   "cell_type": "code",
   "execution_count": 55,
   "id": "abee082b-02c6-4c59-9dd9-d7462dfc7169",
   "metadata": {},
   "outputs": [
    {
     "name": "stdout",
     "output_type": "stream",
     "text": [
      "function of method first\n",
      "function of method1 second\n"
     ]
    }
   ],
   "source": [
    "# when one class inheritis the properties of two or more class called multiple inheritance\n",
    "\n",
    "class test:\n",
    "    \n",
    "    def method(self):\n",
    "        print(\"function of method first\")\n",
    "    \n",
    "class test1:\n",
    "    \n",
    "    def method1(self):\n",
    "        print(\"function of method1 second\")\n",
    "    \n",
    "class test2(test , test1):\n",
    "     \n",
    "        def method2(self):\n",
    "            pass\n",
    "\n",
    "c= test2()\n",
    "c.method()\n",
    "c.method1()"
   ]
  },
  {
   "cell_type": "code",
   "execution_count": 11,
   "id": "70bc0ce5-56e2-4df2-8c5b-8153854e63cb",
   "metadata": {},
   "outputs": [
    {
     "name": "stdout",
     "output_type": "stream",
     "text": [
      "21\n"
     ]
    }
   ],
   "source": [
    "# setter and getter are used to set the value of private variable and access the value of private variable\n",
    "\n",
    "class test:\n",
    "    def __init__(self, age):\n",
    "            self.__age = age\n",
    "         \n",
    "    def set_age(self , x):\n",
    "        self.__age = x\n",
    "        \n",
    "    def get_age(self):\n",
    "        return self.__age\n",
    "    \n",
    "a= test(10)\n",
    "a.set_age(21)\n",
    "print(a.get_age())\n",
    "        "
   ]
  },
  {
   "cell_type": "code",
   "execution_count": null,
   "id": "358e5d0d-9ea1-4ce8-a5f2-c14b78f31b44",
   "metadata": {},
   "outputs": [],
   "source": [
    "# method overriding is the mechanism by which we can change the behavior of already written method\n",
    "class test:\n",
    "    \n",
    "    def __init__(self):\n",
    "        self.val = \"hello\"\n",
    "        \n",
    "    def show(self):\n",
    "        print(self.val)\n",
    "        \n",
    "class test1(test):\n",
    "    def __init__(self):\n",
    "        self.valv"
   ]
  }
 ],
 "metadata": {
  "kernelspec": {
   "display_name": "Python 3 (ipykernel)",
   "language": "python",
   "name": "python3"
  },
  "language_info": {
   "codemirror_mode": {
    "name": "ipython",
    "version": 3
   },
   "file_extension": ".py",
   "mimetype": "text/x-python",
   "name": "python",
   "nbconvert_exporter": "python",
   "pygments_lexer": "ipython3",
   "version": "3.10.8"
  }
 },
 "nbformat": 4,
 "nbformat_minor": 5
}
